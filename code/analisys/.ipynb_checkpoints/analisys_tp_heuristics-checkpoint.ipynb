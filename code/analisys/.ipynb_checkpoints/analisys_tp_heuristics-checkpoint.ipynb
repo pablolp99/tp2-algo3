{
 "cells": [
  {
   "cell_type": "code",
   "execution_count": 9,
   "metadata": {},
   "outputs": [],
   "source": [
    "import matplotlib.pyplot as plt\n",
    "import numpy as np\n",
    "import pandas as pd\n",
    "import seaborn as sns\n",
    "import time"
   ]
  },
  {
   "cell_type": "code",
   "execution_count": 14,
   "metadata": {},
   "outputs": [],
   "source": [
    "data = pd.read_csv(\"../heuristics.txt\", sep=\" \", header=None).rename(columns={ 0:\"algorithm\", 1:\"test_iter\", 2:\"node_count\", 5:\"total_weight\", 4:\"microseconds\" })"
   ]
  },
  {
   "cell_type": "code",
   "execution_count": 15,
   "metadata": {},
   "outputs": [],
   "source": [
    "test_graph = data[data.algorithm=='AGM']"
   ]
  },
  {
   "cell_type": "code",
   "execution_count": 23,
   "metadata": {},
   "outputs": [],
   "source": [
    "x_range = np.arange(1, 500)"
   ]
  },
  {
   "cell_type": "code",
   "execution_count": 16,
   "metadata": {},
   "outputs": [
    {
     "data": {
      "text/html": [
       "<div>\n",
       "<style scoped>\n",
       "    .dataframe tbody tr th:only-of-type {\n",
       "        vertical-align: middle;\n",
       "    }\n",
       "\n",
       "    .dataframe tbody tr th {\n",
       "        vertical-align: top;\n",
       "    }\n",
       "\n",
       "    .dataframe thead th {\n",
       "        text-align: right;\n",
       "    }\n",
       "</style>\n",
       "<table border=\"1\" class=\"dataframe\">\n",
       "  <thead>\n",
       "    <tr style=\"text-align: right;\">\n",
       "      <th></th>\n",
       "      <th>algorithm</th>\n",
       "      <th>test_iter</th>\n",
       "      <th>node_count</th>\n",
       "      <th>3</th>\n",
       "      <th>microseconds</th>\n",
       "    </tr>\n",
       "  </thead>\n",
       "  <tbody>\n",
       "    <tr>\n",
       "      <th>0</th>\n",
       "      <td>AGM</td>\n",
       "      <td>1</td>\n",
       "      <td>4</td>\n",
       "      <td>95</td>\n",
       "      <td>38</td>\n",
       "    </tr>\n",
       "    <tr>\n",
       "      <th>3</th>\n",
       "      <td>AGM</td>\n",
       "      <td>1</td>\n",
       "      <td>6</td>\n",
       "      <td>16</td>\n",
       "      <td>40</td>\n",
       "    </tr>\n",
       "    <tr>\n",
       "      <th>6</th>\n",
       "      <td>AGM</td>\n",
       "      <td>1</td>\n",
       "      <td>48</td>\n",
       "      <td>45740</td>\n",
       "      <td>842</td>\n",
       "    </tr>\n",
       "    <tr>\n",
       "      <th>9</th>\n",
       "      <td>AGM</td>\n",
       "      <td>1</td>\n",
       "      <td>52</td>\n",
       "      <td>10713</td>\n",
       "      <td>1326</td>\n",
       "    </tr>\n",
       "    <tr>\n",
       "      <th>12</th>\n",
       "      <td>AGM</td>\n",
       "      <td>1</td>\n",
       "      <td>96</td>\n",
       "      <td>665</td>\n",
       "      <td>2977</td>\n",
       "    </tr>\n",
       "    <tr>\n",
       "      <th>15</th>\n",
       "      <td>AGM</td>\n",
       "      <td>1</td>\n",
       "      <td>101</td>\n",
       "      <td>849</td>\n",
       "      <td>3277</td>\n",
       "    </tr>\n",
       "    <tr>\n",
       "      <th>18</th>\n",
       "      <td>AGM</td>\n",
       "      <td>1</td>\n",
       "      <td>152</td>\n",
       "      <td>90329</td>\n",
       "      <td>7608</td>\n",
       "    </tr>\n",
       "    <tr>\n",
       "      <th>21</th>\n",
       "      <td>AGM</td>\n",
       "      <td>1</td>\n",
       "      <td>280</td>\n",
       "      <td>3682</td>\n",
       "      <td>26141</td>\n",
       "    </tr>\n",
       "    <tr>\n",
       "      <th>24</th>\n",
       "      <td>AGM</td>\n",
       "      <td>1</td>\n",
       "      <td>400</td>\n",
       "      <td>21319</td>\n",
       "      <td>53839</td>\n",
       "    </tr>\n",
       "    <tr>\n",
       "      <th>27</th>\n",
       "      <td>AGM</td>\n",
       "      <td>1</td>\n",
       "      <td>439</td>\n",
       "      <td>149176</td>\n",
       "      <td>66630</td>\n",
       "    </tr>\n",
       "    <tr>\n",
       "      <th>30</th>\n",
       "      <td>AGM</td>\n",
       "      <td>1</td>\n",
       "      <td>10</td>\n",
       "      <td>166</td>\n",
       "      <td>67</td>\n",
       "    </tr>\n",
       "    <tr>\n",
       "      <th>33</th>\n",
       "      <td>AGM</td>\n",
       "      <td>1</td>\n",
       "      <td>100</td>\n",
       "      <td>3174</td>\n",
       "      <td>3451</td>\n",
       "    </tr>\n",
       "    <tr>\n",
       "      <th>36</th>\n",
       "      <td>AGM</td>\n",
       "      <td>1</td>\n",
       "      <td>200</td>\n",
       "      <td>9189</td>\n",
       "      <td>13297</td>\n",
       "    </tr>\n",
       "    <tr>\n",
       "      <th>39</th>\n",
       "      <td>AGM</td>\n",
       "      <td>1</td>\n",
       "      <td>300</td>\n",
       "      <td>16740</td>\n",
       "      <td>32856</td>\n",
       "    </tr>\n",
       "    <tr>\n",
       "      <th>42</th>\n",
       "      <td>AGM</td>\n",
       "      <td>1</td>\n",
       "      <td>350</td>\n",
       "      <td>20431</td>\n",
       "      <td>41908</td>\n",
       "    </tr>\n",
       "  </tbody>\n",
       "</table>\n",
       "</div>"
      ],
      "text/plain": [
       "   algorithm  test_iter  node_count       3  microseconds\n",
       "0        AGM          1           4      95            38\n",
       "3        AGM          1           6      16            40\n",
       "6        AGM          1          48   45740           842\n",
       "9        AGM          1          52   10713          1326\n",
       "12       AGM          1          96     665          2977\n",
       "15       AGM          1         101     849          3277\n",
       "18       AGM          1         152   90329          7608\n",
       "21       AGM          1         280    3682         26141\n",
       "24       AGM          1         400   21319         53839\n",
       "27       AGM          1         439  149176         66630\n",
       "30       AGM          1          10     166            67\n",
       "33       AGM          1         100    3174          3451\n",
       "36       AGM          1         200    9189         13297\n",
       "39       AGM          1         300   16740         32856\n",
       "42       AGM          1         350   20431         41908"
      ]
     },
     "execution_count": 16,
     "metadata": {},
     "output_type": "execute_result"
    }
   ],
   "source": [
    "test_graph"
   ]
  },
  {
   "cell_type": "code",
   "execution_count": 46,
   "metadata": {},
   "outputs": [],
   "source": [
    "# y_range = [(n * np.log(n)) * 20 for n in x_range]\n",
    "y_range = [(n ** 2) * 20 for n in x_range]"
   ]
  },
  {
   "cell_type": "code",
   "execution_count": 47,
   "metadata": {},
   "outputs": [
    {
     "data": {
      "image/png": "[encoded data removed]",
      "text/plain": [
       "<Figure size 432x288 with 1 Axes>"
      ]
     },
     "metadata": {
      "needs_background": "light"
     },
     "output_type": "display_data"
    }
   ],
   "source": [
    "fig = sns.scatterplot(x=\"node_count\", y=\"microseconds\", data=test_graph)\n",
    "fig = sns.lineplot(x=x_range, y=y_range)"
   ]
  }
 ],
 "metadata": {
  "kernelspec": {
   "display_name": "Python 3",
   "language": "python",
   "name": "python3"
  },
  "language_info": {
   "codemirror_mode": {
    "name": "ipython",
    "version": 3
   },
   "file_extension": ".py",
   "mimetype": "text/x-python",
   "name": "python",
   "nbconvert_exporter": "python",
   "pygments_lexer": "ipython3",
   "version": "3.7.5"
  }
 },
 "nbformat": 4,
 "nbformat_minor": 4
}
